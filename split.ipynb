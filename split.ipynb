{
 "cells": [
  {
   "cell_type": "code",
   "execution_count": 1,
   "metadata": {},
   "outputs": [],
   "source": [
    "from data_preprocess import *\n",
    "from data_visual_tools import *\n",
    "import pandas as pd\n",
    "import os\n",
    "from PIL import Image, ImageDraw, ImageFile\n",
    "from matplotlib import pyplot as plt\n",
    "import shutil"
   ]
  },
  {
   "cell_type": "code",
   "execution_count": 17,
   "metadata": {},
   "outputs": [
    {
     "name": "stdout",
     "output_type": "stream",
     "text": [
      "Converted 50 images\n",
      "Converted 100 images\n",
      "Converted 150 images\n",
      "Converted 200 images\n",
      "Converted 250 images\n",
      "Converted 300 images\n",
      "Converted 350 images\n",
      "Converted 400 images\n",
      "Converted 450 images\n",
      "Converted 500 images\n",
      "Converted 550 images\n",
      "Converted 600 images\n",
      "Converted 650 images\n",
      "Converted 700 images\n",
      "Converted 750 images\n",
      "Converted 800 images\n",
      "Converted 850 images\n",
      "Converted 900 images\n",
      "Converted 950 images\n",
      "Converted 1000 images\n",
      "Converted 1050 images\n",
      "Converted 1100 images\n"
     ]
    }
   ],
   "source": [
    "# Set the directory path\n",
    "dir_path = '/home/ec2-user/segmenter/MAIDA/data1000/images'\n",
    "out_dir = '/home/ec2-user/segmenter/ETTDATA/MIMIC'\n",
    "\n",
    "i = 0\n",
    "# Loop through each file in the directory\n",
    "for filename in os.listdir(dir_path):\n",
    "    if filename.endswith('.png'):\n",
    "        # Open the image file using PIL\n",
    "        img = Image.open(os.path.join(dir_path, filename))\n",
    "        \n",
    "        # Set the output file name and path\n",
    "        output_filename = os.path.splitext(filename)[0] + \".jpg\"\n",
    "        output_path = os.path.join(out_dir, output_filename)\n",
    "        \n",
    "        # Convert and save the image as JPEG\n",
    "        img.save(output_path, \"JPEG\")\n",
    "        \n",
    "        i += 1\n",
    "        if i % 50 == 0:\n",
    "            print(f\"Converted {i} images\")\n"
   ]
  },
  {
   "cell_type": "code",
   "execution_count": 20,
   "metadata": {},
   "outputs": [
    {
     "name": "stdout",
     "output_type": "stream",
     "text": [
      "Processing abnormal_u\n",
      "Copied 50 files.\n",
      "Processing borderline_u\n",
      "Copied 100 files.\n",
      "Copied 150 files.\n",
      "Copied 200 files.\n",
      "Copied 250 files.\n",
      "Copied 300 files.\n",
      "Copied 350 files.\n",
      "Copied 400 files.\n",
      "Processing .DS_Store\n",
      "Processing normal_u\n",
      "Copied 450 files.\n",
      "Copied 500 files.\n",
      "Copied 550 files.\n",
      "Copied 600 files.\n",
      "Copied 650 files.\n",
      "Copied 700 files.\n",
      "Copied 750 files.\n",
      "Copied 800 files.\n",
      "Processing no_ETT_u\n",
      "Copied 850 files.\n",
      "Copied 900 files.\n"
     ]
    }
   ],
   "source": [
    "input_dir = '/home/ec2-user/efs/RANZCR/data'\n",
    "dst_dir = '/home/ec2-user/segmenter/ETTDATA/RANZCR'\n",
    "\n",
    "i = 0\n",
    "for src_dir in os.listdir(input_dir):\n",
    "    print(f\"Processing {src_dir}\")\n",
    "    if not src_dir.startswith(\".\"):\n",
    "        file_list = os.listdir(os.path.join(input_dir, src_dir))\n",
    "\n",
    "        for file_name in file_list:\n",
    "            src_file = os.path.join(input_dir, src_dir, file_name)\n",
    "            dst_file = os.path.join(dst_dir, file_name)\n",
    "\n",
    "            shutil.copy(src_file, dst_file)\n",
    "            i += 1\n",
    "            if i % 50 == 0:\n",
    "                print(f\"Copied {i} files.\")\n",
    "    \n"
   ]
  },
  {
   "cell_type": "code",
   "execution_count": 22,
   "metadata": {},
   "outputs": [],
   "source": [
    "def train_val_split(data_dir, target_dir, train_info, val_info):\n",
    "    for file in os.listdir(data_dir):\n",
    "        # print(file)\n",
    "        name = file[:-4]\n",
    "        if name in train_info:\n",
    "            shutil.copy(os.path.join(data_dir, file), os.path.join(target_dir, \"train\", file))\n",
    "        elif name in val_info:\n",
    "            shutil.copy(os.path.join(data_dir, file), os.path.join(target_dir, \"val\", file))\n"
   ]
  },
  {
   "cell_type": "code",
   "execution_count": 23,
   "metadata": {},
   "outputs": [],
   "source": [
    "def get_split_info(group, split_info='/home/ec2-user/segmenter/ETT_Evaluation/split/train_mimic_only.csv'):\n",
    "    split = pd.read_csv(split_info)\n",
    "    if group == 'train':\n",
    "        files = split[split['Split']=='train']\n",
    "    elif group == 'val':\n",
    "        files = split[split['Split']=='val']\n",
    "    elif group == 'test':\n",
    "        files = split[split['Split']=='test']\n",
    "    else:\n",
    "        raise ValueError(\"Invalid group.\")\n",
    "    \n",
    "    m = list(files[files['Source']=='MIMIC']['FileName'])\n",
    "    r = list(files[files['Source']=='RANZCR']['FileName'])\n",
    "    return m, r"
   ]
  },
  {
   "cell_type": "code",
   "execution_count": 24,
   "metadata": {},
   "outputs": [],
   "source": [
    "def split_images(split_info, mimic_data_dir, ranzcr_data_dir, output_dir):\n",
    "    train_m, train_r = get_split_info('train', split_info=split_info)\n",
    "    val_m, val_r = get_split_info('val', split_info=split_info)\n",
    "    train_val_split(mimic_data_dir, output_dir, train_m, val_m)\n",
    "    train_val_split(ranzcr_data_dir, output_dir, train_r, val_r)\n",
    "    "
   ]
  },
  {
   "cell_type": "code",
   "execution_count": 26,
   "metadata": {},
   "outputs": [],
   "source": [
    "split_images('/home/ec2-user/segmenter/ETT_Evaluation/data_split/sampled_data_split.csv', \n",
    "             '/home/ec2-user/segmenter/ETTDATA/MIMIC',\n",
    "             '/home/ec2-user/segmenter/ETTDATA/RANZCR',\n",
    "             '/home/ec2-user/segmenter/ETTDATA/sampled_data_split')"
   ]
  },
  {
   "cell_type": "code",
   "execution_count": 31,
   "metadata": {},
   "outputs": [],
   "source": [
    "def create_test_folder(split_info, data_dir_m, data_dir_r, target_dir_m, target_dir_r):\n",
    "    test_m, test_r = get_split_info('test', split_info=split_info)\n",
    "    for file in os.listdir(data_dir_m):\n",
    "        name = file[:-4]\n",
    "        if name in test_m:\n",
    "            shutil.copy(os.path.join(data_dir_m, file), os.path.join(target_dir_m, file))\n",
    "    \n",
    "    for file in os.listdir(data_dir_r):\n",
    "        name = file[:-4]\n",
    "        if name in test_r:\n",
    "            shutil.copy(os.path.join(data_dir_r, file), os.path.join(target_dir_r, file))\n"
   ]
  },
  {
   "cell_type": "code",
   "execution_count": 32,
   "metadata": {},
   "outputs": [],
   "source": [
    "create_test_folder('/home/ec2-user/segmenter/ETT_Evaluation/data_split/all_data_split.csv',\n",
    "                   '/home/ec2-user/segmenter/ETTDATA/MIMIC',\n",
    "                   '/home/ec2-user/segmenter/ETTDATA/RANZCR',\n",
    "                   '/home/ec2-user/segmenter/ETTDATA/Test/MIMIC',\n",
    "                   '/home/ec2-user/segmenter/ETTDATA/Test/RANZCR')"
   ]
  },
  {
   "cell_type": "code",
   "execution_count": null,
   "metadata": {},
   "outputs": [],
   "source": []
  }
 ],
 "metadata": {
  "kernelspec": {
   "display_name": "pytorch",
   "language": "python",
   "name": "python3"
  },
  "language_info": {
   "codemirror_mode": {
    "name": "ipython",
    "version": 3
   },
   "file_extension": ".py",
   "mimetype": "text/x-python",
   "name": "python",
   "nbconvert_exporter": "python",
   "pygments_lexer": "ipython3",
   "version": "3.9.13"
  },
  "orig_nbformat": 4
 },
 "nbformat": 4,
 "nbformat_minor": 2
}
